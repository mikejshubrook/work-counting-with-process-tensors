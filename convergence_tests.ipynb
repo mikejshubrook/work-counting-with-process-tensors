{
 "cells": [
  {
   "cell_type": "markdown",
   "metadata": {},
   "source": [
    "# Convergence tests - dynamics and moments"
   ]
  },
  {
   "cell_type": "markdown",
   "metadata": {},
   "source": [
    "In this file we show how to test for convergence of the system dynamics and the work moments. \n",
    "\n",
    "In both cases, we must test for convergence w.r.t. the timestep dt and the SVD precision p.\n",
    "\n",
    "For the moments, it is also necessary to check for convergence w.r.t. \n",
    "(i) 's' the equilibration time\n",
    "(ii) The finite difference order"
   ]
  },
  {
   "cell_type": "code",
   "execution_count": null,
   "metadata": {},
   "outputs": [],
   "source": []
  },
  {
   "cell_type": "code",
   "execution_count": null,
   "metadata": {},
   "outputs": [],
   "source": []
  }
 ],
 "metadata": {
  "language_info": {
   "name": "python"
  }
 },
 "nbformat": 4,
 "nbformat_minor": 2
}
